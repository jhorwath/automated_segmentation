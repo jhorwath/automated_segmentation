{
 "cells": [
  {
   "cell_type": "code",
   "execution_count": 1,
   "metadata": {},
   "outputs": [
    {
     "name": "stdout",
     "output_type": "stream",
     "text": [
      "1.4.0\n"
     ]
    }
   ],
   "source": [
    "import numpy as np\n",
    "import matplotlib as mpl\n",
    "#mpl.use('Agg')\n",
    "import matplotlib.pyplot as plt\n",
    "import glob\n",
    "import os\n",
    "\n",
    "import torch\n",
    "#import torchvision\n",
    "#import torchvision.transforms as transforms\n",
    "import torch.nn as nn\n",
    "import torch.nn.functional as F\n",
    "import torch.optim as optim\n",
    "from torch.utils import data as D\n",
    "from sklearn.model_selection import train_test_split\n",
    "from skimage.color import rgb2gray\n",
    "from skimage import measure, filters\n",
    "from sklearn.preprocessing import OneHotEncoder\n",
    "print(torch.__version__)\n",
    "import time\n",
    "\n",
    "save_name = '/home/jay/data/BNL_032020/BNL_032020_900_1/pytorchtest/singlelayer8_7x7batch128_short_blur3_sigmoid'"
   ]
  },
  {
   "cell_type": "code",
   "execution_count": 2,
   "metadata": {},
   "outputs": [
    {
     "name": "stdout",
     "output_type": "stream",
     "text": [
      "cuda:0\n"
     ]
    },
    {
     "data": {
      "text/plain": [
       "DataParallel(\n",
       "  (module): single_layer(\n",
       "    (conv0): Conv2d(1, 2, kernel_size=(7, 7), stride=(1, 1), padding=(3, 3))\n",
       "    (b0): BatchNorm2d(2, eps=1e-05, momentum=0.1, affine=True, track_running_stats=True)\n",
       "    (conv3): Conv2d(2, 1, kernel_size=(7, 7), stride=(1, 1), padding=(3, 3))\n",
       "    (b3): BatchNorm2d(1, eps=1e-05, momentum=0.1, affine=True, track_running_stats=True)\n",
       "    (pool): MaxPool2d(kernel_size=2, stride=2, padding=0, dilation=1, ceil_mode=False)\n",
       "  )\n",
       ")"
      ]
     },
     "execution_count": 2,
     "metadata": {},
     "output_type": "execute_result"
    }
   ],
   "source": [
    "class single_layer(nn.Module):\n",
    "    def __init__(self):\n",
    "        super(single_layer,self).__init__()\n",
    "        self.conv0 = nn.Conv2d(1,2,7,dilation=1,padding=3)\n",
    "        self.b0 = nn.BatchNorm2d(2)\n",
    "        \n",
    "#        self.conv1 = nn.ConvTranspose2d(8,2,7,stride=2,padding=3)\n",
    "#        self.b1 = nn.BatchNorm2d(2)\n",
    "#\n",
    "#        self.conv2 = nn.Conv2d(2,8,7,dilation=1,padding=3)\n",
    "#        self.b2 = nn.BatchNorm2d(8)\n",
    "        \n",
    "        self.conv3 = nn.Conv2d(2,1,7,dilation=1,padding=3)\n",
    "        self.b3 = nn.BatchNorm2d(1)\n",
    "        \n",
    "        self.pool = nn.MaxPool2d(2,2)\n",
    "\n",
    "        \n",
    "    def forward(self,x):\n",
    "#        c0 = self.pool(self.b0(F.relu(self.conv0(x))))\n",
    "#        c1 = self.b1(F.relu(self.conv1(c0,output_size=x.size())))\n",
    "#        c2 = self.b2(F.relu(self.conv2(c1)))\n",
    "#        c3 = self.b3(F.relu(self.conv3(c2)))\n",
    "#        c1 = F.softmax(c1,dim=0)\n",
    "        c0 = self.b0(F.relu(self.conv0(x)))\n",
    "        c1 = self.b3(F.relu(self.conv3(c0)))\n",
    "        #return c1\n",
    "        return torch.sigmoid(c1)\n",
    "\n",
    "model = single_layer()\n",
    "\n",
    "criterion = nn.MSELoss()\n",
    "\n",
    "optimizer = optim.Adam(model.parameters(),lr = 0.0005) \n",
    "\n",
    "#scheduler = optim.lr_scheduler.MultiStepLR(optimizer,milestones=[30])\n",
    "\n",
    "\n",
    "device = torch.device('cuda:0,1,2,3' if torch.cuda.is_available() else 'cpu')\n",
    "print(device)\n",
    "model.to(device)\n",
    "model = nn.DataParallel(model)\n",
    "#model.to(device)\n",
    "### Use the following line only if training on multiple GPUs\n",
    "#model = nn.DataParallel(model)\n",
    "\n",
    "### Use following section only if continuing training from a checkpoint\n",
    "checkpoint = torch.load('/home/jay/data/BNL_032020/BNL_032020_900_1/pytorchtest/singlelayer8_7x7batch128_short_blur3_sigmoid_lr0001_e50.pt')\n",
    "model.load_state_dict(checkpoint['model_state_dict'])\n",
    "optimizer.load_state_dict(checkpoint['optimizer_state_dict'])\n",
    "\n",
    "for state in optimizer.state.values():\n",
    "    for k,v in state.items():\n",
    "        if isinstance(v,torch.Tensor):\n",
    "            state[k] = v.to(device)\n",
    "\n",
    "### Change following line to model.eval() for inference\n",
    "model.eval()\n",
    "#model.to(device)\n",
    "#model = nn.DataParallel(model)\n"
   ]
  },
  {
   "cell_type": "code",
   "execution_count": null,
   "metadata": {},
   "outputs": [],
   "source": [
    "#images = np.load('900C_driftcorrect.npy',mmap_mode = 'r+')\n",
    "#def norm(im):\n",
    "#    return (im - np.min(im)) / (np.max(im) - np.min(im))\n",
    "#\n",
    "#def scale(im):\n",
    "#    return (im - np.mean(im)) / np.std(im)\n",
    "#\n",
    "#for i in range(len(images)):\n",
    "#    if i % 100 == 0:\n",
    "#        print(i)\n",
    "#    images[i] = norm(scale(filters.gaussian(images[i],sigma=3)))\n",
    "#np.save('900C_driftcorrect_gauss3.npy',images)"
   ]
  },
  {
   "cell_type": "code",
   "execution_count": 3,
   "metadata": {},
   "outputs": [
    {
     "name": "stdout",
     "output_type": "stream",
     "text": [
      "Loading Images\n",
      "\t (800, 1, 3250, 3250)\n",
      "Inference\n",
      "\tInitializing\n",
      "\tEvaluating\n",
      "\t 0 / 800\n",
      "\t 80 / 800\n",
      "\t 160 / 800\n",
      "\t 240 / 800\n",
      "\t 320 / 800\n",
      "\t 400 / 800\n",
      "\t 480 / 800\n",
      "\t 560 / 800\n",
      "\t 640 / 800\n",
      "\t 720 / 800\n",
      "Finished!\n",
      "\tTime:  140.3405556678772\n"
     ]
    }
   ],
   "source": [
    "start = time.time()\n",
    "print('Loading Images')\n",
    "images = np.load('900C_driftcorrect_gauss3.npy',mmap_mode='r+').reshape(-1,1,3250,3250)\n",
    "print('\\t',images.shape)\n",
    "\n",
    "#def norm(im):\n",
    "#    return (im - np.min(im)) / (np.max(im) - np.min(im))\n",
    "#\n",
    "#print('Preprocessing')\n",
    "#for i in range(len(images)):\n",
    "#    if i % 100 == 0:\n",
    "#        print('\\timage {} / {}'.format(i,len(images)))\n",
    "#    images[i] = norm(filters.gaussian(images[i],sigma=3))\n",
    "\n",
    "batch_size=16\n",
    "tensor_im = torch.stack([torch.Tensor(i) for i in images])\n",
    "dataset = torch.utils.data.TensorDataset(tensor_im)\n",
    "dataloader = torch.utils.data.DataLoader(dataset,batch_size=batch_size,shuffle=False)\n",
    "\n",
    "print('Inference')\n",
    "print('\\tInitializing')\n",
    "outputs = np.zeros_like(images)\n",
    "print('\\tEvaluating')\n",
    "for i, data in enumerate(dataloader,0):\n",
    "    if i % 5 == 0:\n",
    "        print('\\t {} / {}'.format(i*batch_size,len(images)))\n",
    "    inputs = data[0]\n",
    "    inputs = inputs.to(device)\n",
    "    \n",
    "    out = model(inputs).detach().cpu().numpy()\n",
    "    outputs[i*batch_size:i*batch_size + batch_size] = out\n",
    "\n",
    "print('Finished!')\n",
    "print('\\tTime: ',time.time() - start)"
   ]
  },
  {
   "cell_type": "code",
   "execution_count": 5,
   "metadata": {},
   "outputs": [
    {
     "name": "stdout",
     "output_type": "stream",
     "text": [
      "0\n",
      "100\n",
      "200\n",
      "300\n",
      "400\n",
      "500\n",
      "600\n",
      "700\n"
     ]
    }
   ],
   "source": [
    "def norm(im):\n",
    "    return (im - np.min(im)) / (np.max(im) - np.min(im))\n",
    "\n",
    "for i in range(len(outputs)):\n",
    "    if i % 100 == 0:\n",
    "        print(i)\n",
    "    outputs[i] = norm(outputs[i])\n",
    "    if np.min(outputs[i]) != 0:\n",
    "        print('min: ',i)\n",
    "    if np.max(outputs[i]) != 1:\n",
    "        print('max: ',i)\n",
    "\n",
    "\n",
    "np.save('900C_out.npy',outputs.reshape(-1,3250,3250))"
   ]
  },
  {
   "cell_type": "code",
   "execution_count": null,
   "metadata": {},
   "outputs": [],
   "source": [
    "mins = []\n",
    "maxes = []\n",
    "\n",
    "def norm(im):\n",
    "    return (im - np.min(im)) / (np.max(im) - np.min(im))\n",
    "\n",
    "for i in range(len(outputs)):\n",
    "    outputs[i,0] = norm(outputs[i,0])\n",
    "#    mins.append(np.min(outputs[i,0]))\n",
    "#    maxes.append(np.max(outputs[i,0]))"
   ]
  },
  {
   "cell_type": "code",
   "execution_count": null,
   "metadata": {},
   "outputs": [],
   "source": [
    "f,a = plt.subplots(figsize=(20,10),ncols=2)\n",
    "a[0].hist(mins,color='blue')\n",
    "a[1].hist(maxes,color='red')"
   ]
  },
  {
   "cell_type": "code",
   "execution_count": null,
   "metadata": {},
   "outputs": [],
   "source": [
    "f,a = plt.subplots(figsize=(30,10),ncols=3)\n",
    "n = int(np.random.rand()*len(outputs))\n",
    "a[0].imshow(images[n,0],plt.cm.gray)\n",
    "a[0].set_title('in')\n",
    "a[1].imshow(outputs[n,0],plt.cm.gray)\n",
    "a[1].set_title('out')\n",
    "a[2].hist(images[n,0].reshape(-1,1))\n",
    "a[2].hist(outputs[n,0].reshape(-1,1))"
   ]
  },
  {
   "cell_type": "code",
   "execution_count": null,
   "metadata": {},
   "outputs": [],
   "source": []
  }
 ],
 "metadata": {
  "kernelspec": {
   "display_name": "Main",
   "language": "python",
   "name": "main"
  },
  "language_info": {
   "codemirror_mode": {
    "name": "ipython",
    "version": 3
   },
   "file_extension": ".py",
   "mimetype": "text/x-python",
   "name": "python",
   "nbconvert_exporter": "python",
   "pygments_lexer": "ipython3",
   "version": "3.7.4"
  }
 },
 "nbformat": 4,
 "nbformat_minor": 4
}
