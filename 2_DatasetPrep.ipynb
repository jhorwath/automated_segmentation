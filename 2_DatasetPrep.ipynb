{
 "cells": [
  {
   "cell_type": "code",
   "execution_count": 1,
   "metadata": {},
   "outputs": [],
   "source": [
    "import numpy as np\n",
    "import matplotlib.pyplot as plt\n",
    "import skimage\n",
    "from skimage import filters, transform, util\n",
    "import os"
   ]
  },
  {
   "cell_type": "code",
   "execution_count": null,
   "metadata": {},
   "outputs": [],
   "source": [
    "num_images = 100\n",
    "c = np.random.choice(np.arange(592),100)\n",
    "\n",
    "images = np.load('900C_driftcorrect.npy',mmap_mode='r+')[c]\n",
    "print(images.shape)"
   ]
  },
  {
   "cell_type": "code",
   "execution_count": null,
   "metadata": {},
   "outputs": [],
   "source": [
    "rotate = [90,180,270]\n",
    "rotated_images = np.zeros((len(images)*len(rotate),images.shape[1],images.shape[2]))\n",
    "\n",
    "n = 0\n",
    "for i in range(len(images)):\n",
    "    if i % 50 == 0:\n",
    "        print('{} / {}'.format(i,len(images)))\n",
    "    for j in rotate:\n",
    "        rotated_images[n] = transform.rotate(images[i],j)\n",
    "        n += 1"
   ]
  },
  {
   "cell_type": "code",
   "execution_count": null,
   "metadata": {},
   "outputs": [],
   "source": [
    "all_images = np.concatenate((images,rotated_images),axis=0)\n",
    "print(all_images.shape)"
   ]
  },
  {
   "cell_type": "code",
   "execution_count": 2,
   "metadata": {},
   "outputs": [
    {
     "name": "stdout",
     "output_type": "stream",
     "text": [
      "(400, 3250, 3250)\n"
     ]
    }
   ],
   "source": [
    "#np.save('900C_dataset_intermediate.npy',all_images)\n",
    "all_images = np.load('900C_dataset_intermediate.npy',mmap_mode='r+')\n",
    "print(all_images.shape)"
   ]
  },
  {
   "cell_type": "code",
   "execution_count": 3,
   "metadata": {},
   "outputs": [
    {
     "name": "stdout",
     "output_type": "stream",
     "text": [
      "0\n",
      "50\n",
      "100\n",
      "150\n",
      "200\n",
      "250\n",
      "300\n",
      "350\n"
     ]
    }
   ],
   "source": [
    "#### 4096 **2 / 512 **2 = 64\n",
    "\n",
    "all_image_sections = np.zeros((len(all_images) * 36,512 ,512))\n",
    "\n",
    "n = 0\n",
    "for i in range(len(all_images)):\n",
    "    if i % 50 == 0:\n",
    "        print(i)\n",
    "    B = util.view_as_windows(all_images[i],window_shape=(512,512),step=512)\n",
    "    B = B.reshape(-1,512,512)\n",
    "    all_image_sections[n*36:n*36 + 36] = B\n",
    "    n += 1"
   ]
  },
  {
   "cell_type": "code",
   "execution_count": 4,
   "metadata": {},
   "outputs": [],
   "source": [
    "def scale(im):\n",
    "    return (im - np.mean(im)) / np.std(im)\n",
    "\n",
    "def norm(im):\n",
    "    return (im - np.min(im)) / (np.max(im) - np.min(im))\n",
    "\n",
    "for i in range(len(all_image_sections)):\n",
    "    all_image_sections[i] = norm(scale(all_image_sections[i]))\n",
    "    if np.max(all_image_sections[i]) != 1 or np.min(all_image_sections[i]) != 0:\n",
    "        print(i)"
   ]
  },
  {
   "cell_type": "code",
   "execution_count": 6,
   "metadata": {},
   "outputs": [],
   "source": [
    "all_image_sections.shape\n",
    "np.save('training_set.npy',all_image_sections)"
   ]
  },
  {
   "cell_type": "code",
   "execution_count": 5,
   "metadata": {},
   "outputs": [],
   "source": [
    "for i in range(len(all_image_sections)):\n",
    "    if np.max(all_image_sections[i]) != 1:\n",
    "        print('i: ',i)\n",
    "        print('max ',np.max(all_image_sections[i]))\n",
    "    if np.min(all_image_sections[i]) != 0:\n",
    "        print('min ',np.min(all_image_sections[i]))"
   ]
  },
  {
   "cell_type": "code",
   "execution_count": null,
   "metadata": {},
   "outputs": [],
   "source": []
  }
 ],
 "metadata": {
  "kernelspec": {
   "display_name": "Python 3",
   "language": "python",
   "name": "python3"
  },
  "language_info": {
   "codemirror_mode": {
    "name": "ipython",
    "version": 3
   },
   "file_extension": ".py",
   "mimetype": "text/x-python",
   "name": "python",
   "nbconvert_exporter": "python",
   "pygments_lexer": "ipython3",
   "version": "3.7.5"
  }
 },
 "nbformat": 4,
 "nbformat_minor": 4
}
